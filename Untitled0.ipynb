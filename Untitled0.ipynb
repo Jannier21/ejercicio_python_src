{
  "nbformat": 4,
  "nbformat_minor": 0,
  "metadata": {
    "colab": {
      "provenance": [],
      "authorship_tag": "ABX9TyPwGCKC7QMbjPYbKUnLm2h1",
      "include_colab_link": true
    },
    "kernelspec": {
      "name": "python3",
      "display_name": "Python 3"
    },
    "language_info": {
      "name": "python"
    }
  },
  "cells": [
    {
      "cell_type": "markdown",
      "metadata": {
        "id": "view-in-github",
        "colab_type": "text"
      },
      "source": [
        "<a href=\"https://colab.research.google.com/github/Jannier21/ejercicio_python_src/blob/main/Untitled0.ipynb\" target=\"_parent\"><img src=\"https://colab.research.google.com/assets/colab-badge.svg\" alt=\"Open In Colab\"/></a>"
      ]
    },
    {
      "cell_type": "code",
      "execution_count": 7,
      "metadata": {
        "colab": {
          "base_uri": "https://localhost:8080/"
        },
        "id": "mc04pyIFdvcS",
        "outputId": "9f77e14a-091d-4d83-d33f-df61b987da63"
      },
      "outputs": [
        {
          "output_type": "stream",
          "name": "stdout",
          "text": [
            "cual es su edad?20\n",
            "cual es tu nombre: jannier navarro\n",
            "tengo 20 años\n"
          ]
        }
      ],
      "source": [
        "name = (\"cual es tu nombre:\")\n",
        "ege = int(input(\"cual es su edad?\"))\n",
        "print(name, \"jannier navarro\")\n",
        "print(\"tengo\",\"20\" , \"años\")"
      ]
    },
    {
      "cell_type": "code",
      "source": [],
      "metadata": {
        "id": "o6_OF7Uxe0Nw"
      },
      "execution_count": 7,
      "outputs": []
    },
    {
      "cell_type": "code",
      "source": [
        "print(\"programa para calcular el area de un rectangulo\")\n",
        "b = float(input(\"igresa la base (m):\"))\n",
        "h = float(input(\"ingrese la altura (n):\"))\n",
        "A = b * h\n",
        "print(\"el area de un rectangulo\", str(b), \"(m) y altura\", str(h), \"(n) es\", str(A), \"m2.\")"
      ],
      "metadata": {
        "colab": {
          "base_uri": "https://localhost:8080/"
        },
        "id": "8e0kQUtMgFAo",
        "outputId": "6ea3c334-4001-443d-afa6-c6432078916d"
      },
      "execution_count": 8,
      "outputs": [
        {
          "output_type": "stream",
          "name": "stdout",
          "text": [
            "programa para calcular el area de un rectangulo\n",
            "igresa la base (m):15\n",
            "ingrese la altura (n):5\n",
            "el area de un rectangulo 15.0 (m) y altura 5.0 (n) es 75.0 m2.\n"
          ]
        }
      ]
    },
    {
      "cell_type": "code",
      "source": [
        "print(\"programa para calcular el area de un truangulo\")\n",
        "b = float(input(\"igresa la base (m):\"))\n",
        "h = float(input(\"ingrese la altura (n):\"))\n",
        "A = b * h / 2\n",
        "print(\"el area de un triangulo\", str(b), \"(m) y altura\", str(h), \"(n) es\", str(A), \"m2.\")"
      ],
      "metadata": {
        "colab": {
          "base_uri": "https://localhost:8080/"
        },
        "id": "IsbZvkBAhraZ",
        "outputId": "d70b1e40-9752-433b-e02e-5d0dec208ad8"
      },
      "execution_count": 10,
      "outputs": [
        {
          "output_type": "stream",
          "name": "stdout",
          "text": [
            "programa para calcular el area de un truangulo\n",
            "igresa la base (m):15\n",
            "ingrese la altura (n):5\n",
            "el area de un triangulo 15.0 (m) y altura 5.0 (n) es 37.5 m2.\n"
          ]
        }
      ]
    },
    {
      "cell_type": "code",
      "source": [
        "print(\"programa para calcular el area de un circulo\")\n",
        "r = float(input(\"igresa la base (m):\"))\n",
        "\n",
        "A = 3.14 * r * r\n",
        "print(\"el area de un circulo\", str(b), \"(m) y altura\", str(h), \"(n) es\", str(A), \"m2.\")"
      ],
      "metadata": {
        "colab": {
          "base_uri": "https://localhost:8080/"
        },
        "id": "WA4MSbobiTTw",
        "outputId": "0f2e0a6d-6665-4bd9-9679-05e99ca883e8"
      },
      "execution_count": 12,
      "outputs": [
        {
          "output_type": "stream",
          "name": "stdout",
          "text": [
            "programa para calcular el area de un circulo\n",
            "igresa la base (m):12.5\n",
            "el area de un circulo 15.0 (m) y altura 5.0 (n) es 490.625 m2.\n"
          ]
        }
      ]
    },
    {
      "cell_type": "code",
      "source": [],
      "metadata": {
        "id": "Pwp9pJ7Theax"
      },
      "execution_count": 12,
      "outputs": []
    }
  ]
}